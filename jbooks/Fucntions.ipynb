{
 "cells": [
  {
   "cell_type": "markdown",
   "id": "628b2b66-3d2f-4797-8603-2c399d410a45",
   "metadata": {},
   "source": [
    "# functions"
   ]
  },
  {
   "cell_type": "code",
   "execution_count": 1,
   "id": "a19b6df7-5f9e-4925-8486-875d68dd5413",
   "metadata": {
    "execution": {
     "iopub.execute_input": "2025-08-13T17:50:14.801495Z",
     "iopub.status.busy": "2025-08-13T17:50:14.801138Z",
     "iopub.status.idle": "2025-08-13T17:50:14.805919Z",
     "shell.execute_reply": "2025-08-13T17:50:14.805432Z",
     "shell.execute_reply.started": "2025-08-13T17:50:14.801459Z"
    }
   },
   "outputs": [
    {
     "name": "stdout",
     "output_type": "stream",
     "text": [
      " odd\n",
      "even \n",
      " odd\n",
      "even \n",
      " odd\n",
      "even \n",
      " odd\n",
      "even \n",
      " odd\n",
      "even \n"
     ]
    }
   ],
   "source": [
    "def is_even (num):\n",
    "    if num %2==0:\n",
    "        return \"even \"\n",
    "    else :\n",
    "        return \" odd\"\n",
    "\n",
    "for i in range (1,11):\n",
    "    print (is_even(i))"
   ]
  },
  {
   "cell_type": "markdown",
   "id": "a0e89c09-a1af-44ac-8aa5-7f1d3b3ef62b",
   "metadata": {},
   "source": [
    "# parameters vs arguments \n",
    "  default \n",
    "  positional\n",
    "  keyword \n",
    "  arbitrary"
   ]
  },
  {
   "cell_type": "markdown",
   "id": "a3f6a259-4031-4355-bcd0-05fb3b2a1d56",
   "metadata": {},
   "source": [
    "# default"
   ]
  },
  {
   "cell_type": "code",
   "execution_count": null,
   "id": "93d37bfb-51c5-4c1c-be20-c523330ffc2f",
   "metadata": {},
   "outputs": [],
   "source": [
    "\n",
    "def pow ( a, b ):\n",
    "    return ( a **b)\n",
    "\n",
    "\n",
    "pow(2,3)#this will give normal output  \n",
    "pow (2)#this will give error \n",
    "pow()# this will also give error \n",
    "\n",
    "def pow (a=1,b=1):\n",
    "    return (a**b)\n",
    "pow(2,3) \n",
    "pow (2)\n",
    "pow()"
   ]
  },
  {
   "cell_type": "markdown",
   "id": "09fcf915-355a-4fe9-bc6a-cc1e2da3a10e",
   "metadata": {},
   "source": [
    "# positional "
   ]
  },
  {
   "cell_type": "code",
   "execution_count": 6,
   "id": "efbca65e-1f02-4142-8c21-71ea8ae22af1",
   "metadata": {
    "execution": {
     "iopub.execute_input": "2025-08-13T18:13:28.989015Z",
     "iopub.status.busy": "2025-08-13T18:13:28.988627Z",
     "iopub.status.idle": "2025-08-13T18:13:28.993787Z",
     "shell.execute_reply": "2025-08-13T18:13:28.993037Z",
     "shell.execute_reply.started": "2025-08-13T18:13:28.988992Z"
    }
   },
   "outputs": [
    {
     "data": {
      "text/plain": [
       "9"
      ]
     },
     "execution_count": 6,
     "metadata": {},
     "output_type": "execute_result"
    }
   ],
   "source": [
    "pow (b=2,a=3)\n",
    "# here since i gave b and a exquisitly\n",
    "#so the positional parameter is overwritten "
   ]
  },
  {
   "cell_type": "markdown",
   "id": "571b9bce-102b-48b0-8d5e-55d322c5a102",
   "metadata": {},
   "source": [
    "# keyword "
   ]
  },
  {
   "cell_type": "code",
   "execution_count": null,
   "id": "1c9f3576-9b66-42e2-a710-8cdf009a3c12",
   "metadata": {},
   "outputs": [],
   "source": [
    "def flexi (*num):\n",
    "    product = 1 \n",
    "    for i in num :\n",
    "        product = product *i\n",
    "        proint (product )\n",
    "\n",
    "        "
   ]
  },
  {
   "cell_type": "markdown",
   "id": "f8b49a1e-bb60-4f23-89da-e11c28882e98",
   "metadata": {},
   "source": [
    "# lambda func \n"
   ]
  },
  {
   "cell_type": "code",
   "execution_count": 17,
   "id": "82d51737-a7f0-4375-abc4-7d301e765edb",
   "metadata": {
    "execution": {
     "iopub.execute_input": "2025-08-13T19:09:35.466717Z",
     "iopub.status.busy": "2025-08-13T19:09:35.466344Z",
     "iopub.status.idle": "2025-08-13T19:09:35.472281Z",
     "shell.execute_reply": "2025-08-13T19:09:35.471798Z",
     "shell.execute_reply.started": "2025-08-13T19:09:35.466690Z"
    }
   },
   "outputs": [
    {
     "data": {
      "text/plain": [
       "'even'"
      ]
     },
     "execution_count": 17,
     "metadata": {},
     "output_type": "execute_result"
    }
   ],
   "source": [
    "#lambda input : expression \n",
    "x =lambda x : x**2\n",
    "x(2)\n",
    "\n",
    "a = lambda x,y: x+ y\n",
    "a(2,3)\n",
    "\n",
    "# no return value \n",
    "# used once \n",
    "# no name \n",
    "# one line \n",
    "\n",
    "# why \n",
    "# along with higher order function \n",
    "\n",
    "\n",
    "b = lambda x : x[0]==\"a\"\n",
    "b(\"apple\")\n",
    "\n",
    "b = lambda x : \"even\" if x % 2 ==0 else \"odd\"\n",
    "b(4)"
   ]
  },
  {
   "cell_type": "markdown",
   "id": "d64e14ac-700e-4468-86f7-a8af8440cc2f",
   "metadata": {},
   "source": [
    "# higher order fucntion "
   ]
  },
  {
   "cell_type": "code",
   "execution_count": 24,
   "id": "5f752055-8618-458e-9e6b-de6d2bcadf2c",
   "metadata": {
    "execution": {
     "iopub.execute_input": "2025-08-13T19:26:37.174537Z",
     "iopub.status.busy": "2025-08-13T19:26:37.174231Z",
     "iopub.status.idle": "2025-08-13T19:26:37.179438Z",
     "shell.execute_reply": "2025-08-13T19:26:37.178838Z",
     "shell.execute_reply.started": "2025-08-13T19:26:37.174521Z"
    }
   },
   "outputs": [
    {
     "name": "stdout",
     "output_type": "stream",
     "text": [
      "256\n",
      "196\n",
      "186\n"
     ]
    }
   ],
   "source": [
    "def return_sum (func,L):\n",
    "    result = 0 \n",
    "    for i in L:\n",
    "        if func(i):\n",
    "            result = result +i\n",
    "    return (result )\n",
    "L=[44,3,56,27,89,12,54,77,90]\n",
    "x = lambda x: x%2 ==0\n",
    "y= lambda x:x%2!=0\n",
    "z = lambda x: x%3==0\n",
    "\n",
    "print (return_sum(x,L))\n",
    "print (return_sum(y,L))\n",
    "print (return_sum(z,L))\n"
   ]
  },
  {
   "cell_type": "markdown",
   "id": "1fdefdbd-ae9c-40b2-8dc8-3dd3b321ac93",
   "metadata": {},
   "source": [
    "# predefined hof"
   ]
  },
  {
   "cell_type": "code",
   "execution_count": 34,
   "id": "c2a38a26-61f0-4072-88bf-7a0f7aa17881",
   "metadata": {
    "execution": {
     "iopub.execute_input": "2025-08-13T19:38:06.535533Z",
     "iopub.status.busy": "2025-08-13T19:38:06.535193Z",
     "iopub.status.idle": "2025-08-13T19:38:06.541426Z",
     "shell.execute_reply": "2025-08-13T19:38:06.540982Z",
     "shell.execute_reply.started": "2025-08-13T19:38:06.535508Z"
    }
   },
   "outputs": [
    {
     "data": {
      "text/plain": [
       "452"
      ]
     },
     "execution_count": 34,
     "metadata": {},
     "output_type": "execute_result"
    }
   ],
   "source": [
    "# map\n",
    "L=[44,3,56,27,89,12,54,77,90]\n",
    "list (map ( lambda x: x * 2 ,L))\n",
    "\n",
    "#can do an operation with everthing in that data type \n",
    "\n",
    "list ( map ( lambda x : x % 2 ==0, L))\n",
    "\n",
    "# filter \n",
    "\n",
    "list (filter ( lambda x : x >4 , L))\n",
    "\n",
    "#filters out elememnt on the basis of a condtition \n",
    "\n",
    "# reduce \n",
    "# first two items get added \n",
    "#chain continue till single number obtained \n",
    "\n",
    "import functools \n",
    "L=[44,3,56,27,89,12,54,77,90]\n",
    "functools.reduce(lambda x,y:x+y,L)\n",
    "\n"
   ]
  },
  {
   "cell_type": "markdown",
   "id": "abc9f7d8-1b10-4992-9713-bfb59611b0dd",
   "metadata": {},
   "source": [
    "# list comprehension"
   ]
  },
  {
   "cell_type": "code",
   "execution_count": 62,
   "id": "be12970a-7fa8-43ea-b79d-034485562eb0",
   "metadata": {
    "execution": {
     "iopub.execute_input": "2025-08-13T19:56:50.603101Z",
     "iopub.status.busy": "2025-08-13T19:56:50.602591Z",
     "iopub.status.idle": "2025-08-13T19:56:50.608646Z",
     "shell.execute_reply": "2025-08-13T19:56:50.608154Z",
     "shell.execute_reply.started": "2025-08-13T19:56:50.603082Z"
    }
   },
   "outputs": [
    {
     "name": "stdout",
     "output_type": "stream",
     "text": [
      "[88, 6, 112, 54, 178, 24, 108, 154, 180]\n",
      "[0, 1, 4, 9, 16, 25, 36, 49, 64, 81, 100, 121]\n",
      "{1, 121, 9, 81, 49, 25}\n",
      "['orange']\n",
      "{'name': 'nitish'}\n",
      "{44: 1936, 3: 9, 56: 3136, 27: 729, 89: 7921, 12: 144, 54: 2916, 77: 5929, 90: 8100}\n",
      "{44: 1936, 56: 3136, 12: 144, 54: 2916, 90: 8100}\n"
     ]
    }
   ],
   "source": [
    "L=[44,3,56,27,89,12,54,77,90]\n",
    "L2= [item * 2 for item in L]\n",
    "print (L2)\n",
    "L3= [i**2 for i in range(12)]\n",
    "print (L3)\n",
    "L3= { i**2 for i in range (12)if i%2!=0}\n",
    "print (L3)\n",
    "fruit= [ 'apple ', 'orange','mango','guava']\n",
    "L4 = [fruit for fruit in fruit if fruit [0]=='o']\n",
    "#L4 = fruit for every fruit in fruit if the fruit first char ==o\n",
    "print (L4)\n",
    "\n",
    "d= {'name':'nitish','age': 20}\n",
    "d.items ()\n",
    "\n",
    "d1 = { key:value for key,value in d.items ()if len(key)>3}\n",
    "print (d1)\n",
    "\n",
    "d2 = { item : item **2 for item in L}\n",
    "print (d2)\n",
    "d3 = { item : item **2 for item in L if item %2==0}\n",
    "print (d3)\n"
   ]
  }
 ],
 "metadata": {
  "kernelspec": {
   "display_name": "Python 3 (ipykernel)",
   "language": "python",
   "name": "python3"
  },
  "language_info": {
   "codemirror_mode": {
    "name": "ipython",
    "version": 3
   },
   "file_extension": ".py",
   "mimetype": "text/x-python",
   "name": "python",
   "nbconvert_exporter": "python",
   "pygments_lexer": "ipython3",
   "version": "3.13.5"
  }
 },
 "nbformat": 4,
 "nbformat_minor": 5
}
