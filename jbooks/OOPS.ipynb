{
 "cells": [
  {
   "cell_type": "markdown",
   "id": "d379f9a0-d414-46cb-b2a5-6934e9067b80",
   "metadata": {},
   "source": [
    "# oops \n"
   ]
  },
  {
   "cell_type": "markdown",
   "id": "c7e813dc-42b4-4640-834e-864dcd7121c2",
   "metadata": {},
   "source": [
    "# ATM\n"
   ]
  },
  {
   "cell_type": "code",
   "execution_count": null,
   "id": "a94ac152-735b-4860-a4d6-3f97908a528a",
   "metadata": {},
   "outputs": [],
   "source": [
    "class Atm:\n",
    "    def __init__(self):  # constructor\n",
    "        self.pin = \"\"\n",
    "        self.balance = 0\n",
    "        self.menu()\n",
    "\n",
    "    def menu(suelf):\n",
    "        user_input = input(\"\"\" \n",
    "        Hello, choose: \n",
    "        1. Create PIN \n",
    "        2. Deposit \n",
    "        3. Withdraw\n",
    "        4. Check Balance \n",
    "        5. Exit \n",
    "        \"\"\")\n",
    "\n",
    "        if user_input == \"1\":\n",
    "            self.create_pin()\n",
    "        elif user_input == '2':\n",
    "            self.deposit()\n",
    "        elif user_input == '3':\n",
    "            self.withdraw()\n",
    "        elif user_input == '4':\n",
    "            self.check_balance()\n",
    "        elif user_input == '5':\n",
    "            print(\"Bye!\")\n",
    "\n",
    "    def create_pin(self):\n",
    "        self.pin = input(\"Enter new PIN: \")\n",
    "        print(\"PIN set successfully!\")\n",
    "\n",
    "    def deposit(self):\n",
    "        temp = input(\"Enter your PIN: \")\n",
    "        if temp == self.pin:\n",
    "            amount = int(input(\"Enter the amount to deposit: \"))\n",
    "            self.balance += amount\n",
    "            print(\"Amount deposited successfully!\")\n",
    "            print(\"Current balance:\", self.balance)\n",
    "        else:\n",
    "            print(\"Wrong PIN!\")\n",
    "\n",
    "    def withdraw(self):\n",
    "        temp = input(\"Enter your PIN: \")\n",
    "        if temp == self.pin:\n",
    "            amount = int(input(\"Enter the amount to withdraw: \"))\n",
    "            if amount > self.balance:\n",
    "                print(\"Insufficient balance!\")\n",
    "            else:\n",
    "                self.balance -= amount\n",
    "                print(\"You successfully withdrew\", amount)\n",
    "        else:\n",
    "            print(\"Invalid PIN!\")\n",
    "\n",
    "    def check_balance(self):\n",
    "        temp = input(\"Enter your PIN: \")\n",
    "        if temp == self.pin:\n",
    "            print(\"Your balance is:\", self.balance)\n",
    "        else:\n",
    "            print(\"Invalid PIN!\")\n",
    "\n",
    "\n",
    "# Create ATM object\n",
    "atm1 = Atm()\n"
   ]
  },
  {
   "cell_type": "markdown",
   "id": "bf126730-5ce0-4637-9883-c53814f358fe",
   "metadata": {},
   "source": [
    "# fraction "
   ]
  },
  {
   "cell_type": "code",
   "execution_count": 7,
   "id": "2cb434ff-6092-4807-88c5-41a8aee933dc",
   "metadata": {
    "execution": {
     "iopub.execute_input": "2025-08-16T20:40:44.708678Z",
     "iopub.status.busy": "2025-08-16T20:40:44.708260Z",
     "iopub.status.idle": "2025-08-16T20:40:44.715761Z",
     "shell.execute_reply": "2025-08-16T20:40:44.714831Z",
     "shell.execute_reply.started": "2025-08-16T20:40:44.708649Z"
    }
   },
   "outputs": [],
   "source": [
    "class fraction :\n",
    "\n",
    "    def __init__(self,n,d):# magic method 1 \n",
    "        self.num=n\n",
    "        self.den=d  \n",
    "    def __str__(self):# magic method 2 \n",
    "        return\"{}/{}\".format(self.num,self.den)\n",
    "\n",
    "    def __add__(self,other):\n",
    "        temp_num=self.num*other.den+other.num*self.den\n",
    "        temp_den=self.den*other.den\n",
    "        \n",
    "        return fraction (temp_num,temp_den)\n",
    "\n",
    "    def __sub__(self,other):\n",
    "        temp_num=self.num*other.den-other.num*self.den\n",
    "        temp_den=self.den*other.den\n",
    "\n",
    "        return fraction (temp_num,temp_den)\n",
    "\n",
    "    def __mul__(self,other):\n",
    "        temp_num=self.num*other.num\n",
    "        temp_den=self.den*other.den\n",
    "        return fraction (temp_num,temp_den)\n",
    "\n",
    "    def __truediv__(self,other):\n",
    "        temp_num=self.num*other.den\n",
    "        temp_den=self.den*other.num\n",
    "        return fraction (temp_num,temp_den)"
   ]
  },
  {
   "cell_type": "code",
   "execution_count": 10,
   "id": "0b70dbe0-da01-4153-a23d-5374fc0a0260",
   "metadata": {
    "execution": {
     "iopub.execute_input": "2025-08-16T20:44:49.182243Z",
     "iopub.status.busy": "2025-08-16T20:44:49.181915Z",
     "iopub.status.idle": "2025-08-16T20:44:49.187595Z",
     "shell.execute_reply": "2025-08-16T20:44:49.186573Z",
     "shell.execute_reply.started": "2025-08-16T20:44:49.182223Z"
    }
   },
   "outputs": [
    {
     "name": "stdout",
     "output_type": "stream",
     "text": [
      "8/9\n"
     ]
    }
   ],
   "source": [
    "frac_1=fraction(2,3)\n",
    "f2= fraction (3,4)\n",
    "\n",
    "print (frac_1/f2)"
   ]
  },
  {
   "cell_type": "markdown",
   "id": "59b8653f-b0d7-4ab9-8321-66cee1e124bf",
   "metadata": {},
   "source": [
    "# inheritance"
   ]
  },
  {
   "cell_type": "code",
   "execution_count": 2,
   "id": "3f061d65-7b45-4739-b008-0cd9a9423c8d",
   "metadata": {},
   "outputs": [
    {
     "name": "stdout",
     "output_type": "stream",
     "text": [
      " enroll\n",
      " login\n",
      "register \n",
      " review \n"
     ]
    }
   ],
   "source": [
    "class user:\n",
    "\n",
    "    def login (self):\n",
    "        print (\" login\")\n",
    "\n",
    "    def register(self):\n",
    "        print (\"register \")\n",
    "\n",
    "class student (user):\n",
    "    def enroll(self):\n",
    "        print ( \" enroll\")\n",
    "    \n",
    "    def review(self):\n",
    "        print ( \" review \")\n",
    "\n",
    "\n",
    "s1 = student()\n",
    "\n",
    "s1.enroll()\n",
    "s1.login()\n",
    "s1.register()\n",
    "s1.review() "
   ]
  },
  {
   "cell_type": "markdown",
   "id": "aa7a7e67",
   "metadata": {},
   "source": [
    "# use of super "
   ]
  },
  {
   "cell_type": "code",
   "execution_count": null,
   "id": "1019df0a",
   "metadata": {},
   "outputs": [],
   "source": [
    "class Phone:\n",
    "\n",
    "    def __init__(self, brand, model,camera):\n",
    "        \n",
    "        print(\" inside phone constructor\")\n",
    "\n",
    "        self.brand = brand\n",
    "        self.model = model\n",
    "        self.camera = camera\n",
    "\n",
    "class Phone_1(self):\n",
    "    def __init__(self, brand, model, camera, price):\n",
    "        super().__init__(brand, model, camera) \n",
    "        print(\"inside phone_1 constructor\")\n",
    "        self.price = price\n",
    "        # here we are giving the inputs to the parent constructor using super()\n",
    "        # only the price is different in this class\n",
    "    def display(self):\n",
    "        print(f\"Brand: {self.brand}, Model: {self.model}, Camera: {self.camera}, Price: {self.price}\")"
   ]
  },
  {
   "cell_type": "markdown",
   "id": "7a717967",
   "metadata": {},
   "source": [
    "# method overloading \n",
    "\n",
    "# same name function diff work "
   ]
  },
  {
   "cell_type": "code",
   "execution_count": null,
   "id": "40152e8e",
   "metadata": {},
   "outputs": [],
   "source": [
    "class Geoemtry :\n",
    "\n",
    "    def area(self, a,b=0):\n",
    "        if b == 0:\n",
    "            print (\"area of circle\",3.14* a * a)\n",
    "        else:\n",
    "            print (\"area of rectangle is \", a * b)\n",
    "\n",
    "\n",
    "# in jav a we can have same name function with different parameters\n",
    "# in python we cannot do the same \n",
    "# so technically we cannot overload the method in python\n",
    "# but we can use default parameters to achieve the same effect\n",
    "# this here by definition is method overloading but \n",
    "# with the helf of dfault parameters"
   ]
  },
  {
   "cell_type": "markdown",
   "id": "d3129fef",
   "metadata": {},
   "source": [
    "# operator overloading"
   ]
  },
  {
   "cell_type": "code",
   "execution_count": null,
   "id": "b774ec37",
   "metadata": {},
   "outputs": [],
   "source": [
    "# for example + only works with numbers\n",
    "# but we can overload it to work with strings as well   \n",
    "# concatination of strings\n",
    "# this is called operator overloading"
   ]
  }
 ],
 "metadata": {
  "kernelspec": {
   "display_name": "Python 3",
   "language": "python",
   "name": "python3"
  },
  "language_info": {
   "codemirror_mode": {
    "name": "ipython",
    "version": 3
   },
   "file_extension": ".py",
   "mimetype": "text/x-python",
   "name": "python",
   "nbconvert_exporter": "python",
   "pygments_lexer": "ipython3",
   "version": "3.10.5"
  }
 },
 "nbformat": 4,
 "nbformat_minor": 5
}
