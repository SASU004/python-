{
 "cells": [
  {
   "cell_type": "markdown",
   "id": "60d981d7",
   "metadata": {},
   "source": [
    "# generator"
   ]
  },
  {
   "cell_type": "code",
   "execution_count": 5,
   "id": "b433f527",
   "metadata": {},
   "outputs": [],
   "source": [
    "def gen_demo():\n",
    "\n",
    "   yield \"first statement\"\n",
    "   yield \"2nd statement\"\n",
    "   yield \"3rd statement\"\n",
    "   yield \"4th statement\"\n",
    "   "
   ]
  },
  {
   "cell_type": "code",
   "execution_count": null,
   "id": "88bcecd5",
   "metadata": {},
   "outputs": [
    {
     "name": "stdout",
     "output_type": "stream",
     "text": [
      "first statement\n",
      "2nd statement\n",
      "3rd statement\n",
      "4th statement\n"
     ]
    }
   ],
   "source": [
    "gen = gen_demo()   # ispe koi generator call nahi hota, ye sirf generator ka object bana deta hai\n",
    "for i in gen:     # jab ye hota hai to ye generator ko call karta hai\n",
    "    print(i)"
   ]
  },
  {
   "cell_type": "code",
   "execution_count": 20,
   "id": "cb486140",
   "metadata": {},
   "outputs": [],
   "source": [
    "def square (num):\n",
    "    for i in range (1, num+1):\n",
    "        yield i**2\n",
    "        "
   ]
  },
  {
   "cell_type": "code",
   "execution_count": 22,
   "id": "089c7140",
   "metadata": {},
   "outputs": [
    {
     "name": "stdout",
     "output_type": "stream",
     "text": [
      "<generator object square at 0x00000281E8F594D0>\n",
      "<generator object square at 0x00000281E8F594D0>\n",
      "<generator object square at 0x00000281E8F594D0>\n",
      "<generator object square at 0x00000281E8F594D0>\n",
      "<generator object square at 0x00000281E8F594D0>\n",
      "<generator object square at 0x00000281E8F594D0>\n",
      "<generator object square at 0x00000281E8F594D0>\n",
      "<generator object square at 0x00000281E8F594D0>\n",
      "<generator object square at 0x00000281E8F594D0>\n",
      "<generator object square at 0x00000281E8F594D0>\n"
     ]
    }
   ],
   "source": [
    "gen2 = square(10)\n",
    "for i in gen2: \n",
    "    print (gen2)"
   ]
  },
  {
   "cell_type": "markdown",
   "id": "5835ca97",
   "metadata": {},
   "source": [
    "# range in generator "
   ]
  },
  {
   "cell_type": "code",
   "execution_count": 24,
   "id": "670d75b8",
   "metadata": {},
   "outputs": [],
   "source": [
    "def mera_range (start , end ):\n",
    "\n",
    "    for i in range (start, end):\n",
    "        yield i \n",
    "\n"
   ]
  },
  {
   "cell_type": "code",
   "execution_count": 25,
   "id": "1813908b",
   "metadata": {},
   "outputs": [
    {
     "name": "stdout",
     "output_type": "stream",
     "text": [
      "1\n",
      "2\n",
      "3\n",
      "4\n",
      "5\n",
      "6\n",
      "7\n",
      "8\n",
      "9\n"
     ]
    }
   ],
   "source": [
    "for i in mera_range(1,10):\n",
    "    print(i)"
   ]
  },
  {
   "cell_type": "markdown",
   "id": "83ccab71",
   "metadata": {},
   "source": [
    "## generator expression "
   ]
  },
  {
   "cell_type": "code",
   "execution_count": 26,
   "id": "fcbe33c6",
   "metadata": {},
   "outputs": [
    {
     "name": "stdout",
     "output_type": "stream",
     "text": [
      "1\n",
      "4\n",
      "9\n",
      "16\n",
      "25\n",
      "36\n",
      "49\n",
      "64\n",
      "81\n"
     ]
    }
   ],
   "source": [
    "gen =(i **2 for i in range(1, 10))\n",
    "\n",
    "for i in gen :\n",
    "    print(i)"
   ]
  },
  {
   "cell_type": "code",
   "execution_count": null,
   "id": "e3d14d8e",
   "metadata": {},
   "outputs": [],
   "source": []
  }
 ],
 "metadata": {
  "kernelspec": {
   "display_name": "Python 3",
   "language": "python",
   "name": "python3"
  },
  "language_info": {
   "codemirror_mode": {
    "name": "ipython",
    "version": 3
   },
   "file_extension": ".py",
   "mimetype": "text/x-python",
   "name": "python",
   "nbconvert_exporter": "python",
   "pygments_lexer": "ipython3",
   "version": "3.10.5"
  }
 },
 "nbformat": 4,
 "nbformat_minor": 5
}
