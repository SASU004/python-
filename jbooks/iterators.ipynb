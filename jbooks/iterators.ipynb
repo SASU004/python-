{
 "cells": [
  {
   "cell_type": "markdown",
   "id": "a2140162",
   "metadata": {},
   "source": [
    "## iterable \n",
    "if i can use a loop to extract the contents of any thing in python then it is known as an iterator \n",
    "now to be precise iterable generates an iterator when passsed through a iter() method\n",
    "every iterator is an iterable \n",
    "but all iterable is not an iterator \n",
    "example is list \n",
    "every iterable has a iter func"
   ]
  },
  {
   "cell_type": "code",
   "execution_count": null,
   "id": "f85ce9b6",
   "metadata": {},
   "outputs": [
    {
     "data": {
      "text/plain": [
       "['__add__',\n",
       " '__class__',\n",
       " '__class_getitem__',\n",
       " '__contains__',\n",
       " '__delattr__',\n",
       " '__dir__',\n",
       " '__doc__',\n",
       " '__eq__',\n",
       " '__format__',\n",
       " '__ge__',\n",
       " '__getattribute__',\n",
       " '__getitem__',\n",
       " '__getnewargs__',\n",
       " '__gt__',\n",
       " '__hash__',\n",
       " '__init__',\n",
       " '__init_subclass__',\n",
       " '__iter__',\n",
       " '__le__',\n",
       " '__len__',\n",
       " '__lt__',\n",
       " '__mul__',\n",
       " '__ne__',\n",
       " '__new__',\n",
       " '__reduce__',\n",
       " '__reduce_ex__',\n",
       " '__repr__',\n",
       " '__rmul__',\n",
       " '__setattr__',\n",
       " '__sizeof__',\n",
       " '__str__',\n",
       " '__subclasshook__',\n",
       " 'count',\n",
       " 'index']"
      ]
     },
     "execution_count": 1,
     "metadata": {},
     "output_type": "execute_result"
    }
   ],
   "source": [
    "t = (1,2,3,4,)\n",
    "\n",
    "dir(t)\n",
    "\n",
    "# iter present so its iterable\n",
    "# but there is no next method so it is not an iterator\n",
    "\n",
    "# generating iterator \n",
    "\n",
    "iter_t=iter(t)\n",
    "# this is a iterator \n"
   ]
  },
  {
   "cell_type": "markdown",
   "id": "a8223310",
   "metadata": {},
   "source": [
    "# create our own for loop \n"
   ]
  },
  {
   "cell_type": "code",
   "execution_count": 2,
   "id": "e391358d",
   "metadata": {},
   "outputs": [],
   "source": [
    "def my_loop(iterable):\n",
    "     iterator = iter(iterable)\n",
    "     while True:\n",
    "           \n",
    "           try :\n",
    "               print (next(iterator))\n",
    "           except StopIteration:\n",
    "               break"
   ]
  },
  {
   "cell_type": "code",
   "execution_count": 3,
   "id": "8d143e66",
   "metadata": {},
   "outputs": [
    {
     "name": "stdout",
     "output_type": "stream",
     "text": [
      "1\n",
      "2\n",
      "3\n",
      "4\n",
      "5\n",
      "6\n",
      "7\n",
      "8\n",
      "9\n",
      "10\n"
     ]
    }
   ],
   "source": [
    "a=[1,2,3,4,5,6,7,8,9,10]\n",
    "\n",
    "my_loop(a)"
   ]
  },
  {
   "cell_type": "markdown",
   "id": "ed9f7e9f",
   "metadata": {},
   "source": [
    "# a confusing point \n",
    "\n",
    "using iter on an iterable gives us the itarator\n",
    "using iter on an iterator actually doesnt give another iterator but itself  "
   ]
  },
  {
   "cell_type": "markdown",
   "id": "2ad976b8",
   "metadata": {},
   "source": [
    "# own range function"
   ]
  },
  {
   "cell_type": "code",
   "execution_count": 14,
   "id": "b2e7a157",
   "metadata": {},
   "outputs": [],
   "source": [
    "class mera_range:\n",
    "    def __init__(self,start,end):\n",
    "        self.start=start\n",
    "        self.end=end\n",
    "    \n",
    "    def __iter__(self):\n",
    "        return mera_range_ka_iterator(self)"
   ]
  },
  {
   "cell_type": "code",
   "execution_count": 17,
   "id": "1e6a8d0a",
   "metadata": {},
   "outputs": [],
   "source": [
    "class mera_range_ka_iterator:\n",
    "    def __init__(self,iterable_object):\n",
    "        self.iterable_object = iterable_object\n",
    "        \n",
    "    def __iter__(self):\n",
    "        return self\n",
    "    def __next__(self):\n",
    "        if self.iterable_object.start>=self.iterable_object.end:\n",
    "            raise StopIteration \n",
    "\n",
    "        current_value = self.iterable_object.start\n",
    "        self.iterable_object.start += 1\n",
    "        return current_value\n"
   ]
  },
  {
   "cell_type": "code",
   "execution_count": 18,
   "id": "0ec3030f",
   "metadata": {},
   "outputs": [
    {
     "name": "stdout",
     "output_type": "stream",
     "text": [
      "1\n",
      "2\n",
      "3\n",
      "4\n",
      "5\n",
      "6\n",
      "7\n",
      "8\n",
      "9\n"
     ]
    }
   ],
   "source": [
    "for i in mera_range(1,10):\n",
    "    print(i)"
   ]
  },
  {
   "cell_type": "code",
   "execution_count": null,
   "id": "ed282136",
   "metadata": {},
   "outputs": [],
   "source": []
  }
 ],
 "metadata": {
  "kernelspec": {
   "display_name": "Python 3",
   "language": "python",
   "name": "python3"
  },
  "language_info": {
   "codemirror_mode": {
    "name": "ipython",
    "version": 3
   },
   "file_extension": ".py",
   "mimetype": "text/x-python",
   "name": "python",
   "nbconvert_exporter": "python",
   "pygments_lexer": "ipython3",
   "version": "3.10.5"
  }
 },
 "nbformat": 4,
 "nbformat_minor": 5
}
