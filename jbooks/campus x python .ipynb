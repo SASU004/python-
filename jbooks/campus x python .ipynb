{
 "cells": [
  {
   "cell_type": "markdown",
   "id": "7433723f-f4e2-44b1-9e31-5b5d2b542995",
   "metadata": {
    "panel-layout": {
     "height": 60.59375,
     "visible": true,
     "width": 100
    },
    "scrolled": true
   },
   "source": [
    "# campus x python playlist "
   ]
  },
  {
   "cell_type": "code",
   "execution_count": 5,
   "id": "cdbd314c-073d-4948-a2de-6df6f1c6f5ae",
   "metadata": {
    "execution": {
     "iopub.execute_input": "2025-08-09T20:49:04.231189Z",
     "iopub.status.busy": "2025-08-09T20:49:04.229053Z",
     "iopub.status.idle": "2025-08-09T20:49:15.251662Z",
     "shell.execute_reply": "2025-08-09T20:49:15.250206Z",
     "shell.execute_reply.started": "2025-08-09T20:49:04.231125Z"
    }
   },
   "outputs": [
    {
     "name": "stdout",
     "output_type": "stream",
     "text": [
      "h\n",
      "ghjk\n",
      "6\n",
      "inf\n",
      "1.7e+308\n",
      "(4+5j)\n",
      "string\n",
      "[1, 2, 3, 4, 5, 6, 7, 8]\n",
      "(1, 2, 3, 4, 5, 66, 7)\n",
      "{1.2, 2, 3.3, 33}\n",
      "{'name ': 'nigga', 'age': 3456}\n",
      "14\n",
      "2\n",
      "4\n",
      "6\n",
      "10\n",
      "10\n",
      "10\n",
      "4\n",
      "5\n",
      "6\n",
      "['False', 'None', 'True', 'and', 'as', 'assert', 'async', 'await', 'break', 'class', 'continue', 'def', 'del', 'elif', 'else', 'except', 'finally', 'for', 'from', 'global', 'if', 'import', 'in', 'is', 'lambda', 'nonlocal', 'not', 'or', 'pass', 'raise', 'return', 'try', 'while', 'with', 'yield']\n"
     ]
    },
    {
     "ename": "KeyboardInterrupt",
     "evalue": "Interrupted by user",
     "output_type": "error",
     "traceback": [
      "\u001b[1;31m---------------------------------------------------------------------------\u001b[0m",
      "\u001b[1;31mKeyboardInterrupt\u001b[0m                         Traceback (most recent call last)",
      "Cell \u001b[1;32mIn[5], line 54\u001b[0m\n\u001b[0;32m     50\u001b[0m \u001b[38;5;28mprint\u001b[39m(keyword\u001b[38;5;241m.\u001b[39mkwlist)\n\u001b[0;32m     53\u001b[0m \u001b[38;5;66;03m#user input \u001b[39;00m\n\u001b[1;32m---> 54\u001b[0m \u001b[38;5;28minput\u001b[39m (\u001b[38;5;124m\"\u001b[39m\u001b[38;5;124mwhat you doing\u001b[39m\u001b[38;5;124m\"\u001b[39m)\n\u001b[0;32m     57\u001b[0m first \u001b[38;5;241m=\u001b[39m\u001b[38;5;28minput\u001b[39m ( \u001b[38;5;124m\"\u001b[39m\u001b[38;5;124m enter the first number \u001b[39m\u001b[38;5;124m\"\u001b[39m)\n\u001b[0;32m     58\u001b[0m second \u001b[38;5;241m=\u001b[39m\u001b[38;5;28minput\u001b[39m (\u001b[38;5;124m\"\u001b[39m\u001b[38;5;124menter the 2nd num\u001b[39m\u001b[38;5;124m\"\u001b[39m)\n",
      "File \u001b[1;32mC:\\ProgramData\\anaconda3\\Lib\\site-packages\\ipykernel\\kernelbase.py:1282\u001b[0m, in \u001b[0;36mKernel.raw_input\u001b[1;34m(self, prompt)\u001b[0m\n\u001b[0;32m   1280\u001b[0m     msg \u001b[38;5;241m=\u001b[39m \u001b[38;5;124m\"\u001b[39m\u001b[38;5;124mraw_input was called, but this frontend does not support input requests.\u001b[39m\u001b[38;5;124m\"\u001b[39m\n\u001b[0;32m   1281\u001b[0m     \u001b[38;5;28;01mraise\u001b[39;00m StdinNotImplementedError(msg)\n\u001b[1;32m-> 1282\u001b[0m \u001b[38;5;28;01mreturn\u001b[39;00m \u001b[38;5;28mself\u001b[39m\u001b[38;5;241m.\u001b[39m_input_request(\n\u001b[0;32m   1283\u001b[0m     \u001b[38;5;28mstr\u001b[39m(prompt),\n\u001b[0;32m   1284\u001b[0m     \u001b[38;5;28mself\u001b[39m\u001b[38;5;241m.\u001b[39m_parent_ident[\u001b[38;5;124m\"\u001b[39m\u001b[38;5;124mshell\u001b[39m\u001b[38;5;124m\"\u001b[39m],\n\u001b[0;32m   1285\u001b[0m     \u001b[38;5;28mself\u001b[39m\u001b[38;5;241m.\u001b[39mget_parent(\u001b[38;5;124m\"\u001b[39m\u001b[38;5;124mshell\u001b[39m\u001b[38;5;124m\"\u001b[39m),\n\u001b[0;32m   1286\u001b[0m     password\u001b[38;5;241m=\u001b[39m\u001b[38;5;28;01mFalse\u001b[39;00m,\n\u001b[0;32m   1287\u001b[0m )\n",
      "File \u001b[1;32mC:\\ProgramData\\anaconda3\\Lib\\site-packages\\ipykernel\\kernelbase.py:1325\u001b[0m, in \u001b[0;36mKernel._input_request\u001b[1;34m(self, prompt, ident, parent, password)\u001b[0m\n\u001b[0;32m   1322\u001b[0m \u001b[38;5;28;01mexcept\u001b[39;00m \u001b[38;5;167;01mKeyboardInterrupt\u001b[39;00m:\n\u001b[0;32m   1323\u001b[0m     \u001b[38;5;66;03m# re-raise KeyboardInterrupt, to truncate traceback\u001b[39;00m\n\u001b[0;32m   1324\u001b[0m     msg \u001b[38;5;241m=\u001b[39m \u001b[38;5;124m\"\u001b[39m\u001b[38;5;124mInterrupted by user\u001b[39m\u001b[38;5;124m\"\u001b[39m\n\u001b[1;32m-> 1325\u001b[0m     \u001b[38;5;28;01mraise\u001b[39;00m \u001b[38;5;167;01mKeyboardInterrupt\u001b[39;00m(msg) \u001b[38;5;28;01mfrom\u001b[39;00m\u001b[38;5;250m \u001b[39m\u001b[38;5;28;01mNone\u001b[39;00m\n\u001b[0;32m   1326\u001b[0m \u001b[38;5;28;01mexcept\u001b[39;00m \u001b[38;5;167;01mException\u001b[39;00m:\n\u001b[0;32m   1327\u001b[0m     \u001b[38;5;28mself\u001b[39m\u001b[38;5;241m.\u001b[39mlog\u001b[38;5;241m.\u001b[39mwarning(\u001b[38;5;124m\"\u001b[39m\u001b[38;5;124mInvalid Message:\u001b[39m\u001b[38;5;124m\"\u001b[39m, exc_info\u001b[38;5;241m=\u001b[39m\u001b[38;5;28;01mTrue\u001b[39;00m)\n",
      "\u001b[1;31mKeyboardInterrupt\u001b[0m: Interrupted by user"
     ]
    },
    {
     "name": "stdin",
     "output_type": "stream",
     "text": [
      "what you doing erty\n"
     ]
    }
   ],
   "source": [
    "from IPython.core.interactiveshell import InteractiveShell\n",
    "InteractiveShell.ast_node_interactivity = \"all\"\n",
    "\n",
    "print (\"h\")\n",
    "print (\"ghjk\")\n",
    "\n",
    "import warnings\n",
    "warnings.filterwarnings(\"ignore\")\n",
    "\n",
    "print (6)\n",
    "\n",
    "print (1e309)#range is upto this max for int\n",
    "print (1.7e308)#float range \n",
    "print (4+5j)#complex number usage not needed as much \n",
    "print (\"string\")#normal string\n",
    "\n",
    "#list\n",
    "print ([1,2,3,4,5,6,7,8])\n",
    "#tuple\n",
    "print ((1,2,3,4,5,66,7))\n",
    "\n",
    "#visible difference of bracket \n",
    "#sets\n",
    "print({1.2,3.3,33,2,2,})\n",
    "\n",
    "#dict\n",
    "#data type with key and value \n",
    "print ({\"name \":\"nigga\",\"age\":3456})\n",
    "\n",
    "name= 14 \n",
    "print (name )\n",
    "#see that python changes the variable datatype itself \n",
    "#this is known as dynamic binding \n",
    "a=2;b=4;c=6\n",
    "print(a)\n",
    "print(b)\n",
    "print(c)\n",
    "\n",
    "a=b=c=10\n",
    "print(a)\n",
    "print(b)\n",
    "print(c)\n",
    "\n",
    "a,b,c=4,5,6\n",
    "print(a)\n",
    "print(b)\n",
    "print(c)\n",
    "\n",
    "import keyword\n",
    "print(keyword.kwlist)\n",
    "\n",
    "\n",
    "#user input \n",
    "input (\"what you doing\")\n",
    "\n",
    "\n",
    "first =input ( \" enter the first number \")\n",
    "second =input (\"enter the 2nd num\")\n",
    "\n",
    "result=first+second\n",
    "print(result) \n",
    "\n",
    "#it gets concatinated rather than the matchematical shit \n",
    "\n",
    "#to fix it type casting karenge \n",
    "result = int (first)+int (second)\n",
    "print (result)\n",
    "\n",
    "a = 0o310#octal literal \n",
    "b=0x134c#hexadecimal literal \n",
    "c=1.5e2#1.5x10 to the power 2 \n",
    "x=0+3.14j\n",
    "#now to extract the real and the imaginary part of x \n",
    "print (x,x.imag,x.real)\n",
    "\n",
    "unicode = u\"here goes emoji code \"\n",
    "raw_string = r\"for html uses\"\n",
    "\n",
    "a= True + 4 # out put will be 5 cause python treats true as 1 \n",
    "b=False +10# false = 0\n",
    "\n",
    "a=None\n",
    "print(a)# to keep a variable safe and just keep in code \n",
    "\n",
    "# x to the power y \n",
    "x=10\n",
    "y=7\n",
    "print (x**y)\n",
    "# integer division \n",
    "print (x//2)\n",
    "# coverts float value of quotient to int \n",
    "# logical and here is \n",
    "print (x and y)\n",
    "\n",
    "# bitwise operator \n",
    "print (x & y)\n",
    "#and operation on binary level\n",
    "print (x | y )#or operator \n",
    "# or operation on binary \n",
    "\n",
    "# identical operator \n",
    "a=2\n",
    "b=2\n",
    "print (a is b)# this shows true but \n",
    "a= [1,2,3]\n",
    "b=[1,2,3]\n",
    "# this will show false \n",
    "\n",
    "\n",
    "#membership operator \n",
    "x= 'delhi'\n",
    "print (\"d \"in x )\n"
   ]
  },
  {
   "cell_type": "code",
   "execution_count": null,
   "id": "79879e18-ba9b-4121-b90d-b9186dafdf0b",
   "metadata": {},
   "outputs": [],
   "source": []
  }
 ],
 "metadata": {
  "kernelspec": {
   "display_name": "Python 3 (ipykernel)",
   "language": "python",
   "name": "python3"
  },
  "language_info": {
   "codemirror_mode": {
    "name": "ipython",
    "version": 3
   },
   "file_extension": ".py",
   "mimetype": "text/x-python",
   "name": "python",
   "nbconvert_exporter": "python",
   "pygments_lexer": "ipython3",
   "version": "3.13.5"
  },
  "panel-cell-order": [
   "724172aa-87f3-4345-940e-f9390cd4918e",
   "4bd1acb0-37fb-4048-bc56-172d7ffa9462"
  ]
 },
 "nbformat": 4,
 "nbformat_minor": 5
}
