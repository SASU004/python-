{
 "cells": [
  {
   "cell_type": "code",
   "execution_count": null,
   "id": "26f608fe-5f3f-41f2-bef0-03de92ed19f6",
   "metadata": {
    "execution": {
     "iopub.execute_input": "2025-08-10T12:52:25.174873Z",
     "iopub.status.busy": "2025-08-10T12:52:25.174601Z",
     "iopub.status.idle": "2025-08-10T12:52:25.179744Z",
     "shell.execute_reply": "2025-08-10T12:52:25.179180Z",
     "shell.execute_reply.started": "2025-08-10T12:52:25.174857Z"
    }
   },
   "outputs": [],
   "source": [
    "from IPython.core.interactiveshell import InteractiveShell\n",
    "InteractiveShell.ast_node_interactivity = \"all\"\n",
    "\n",
    "\n",
    "import random \n",
    "random.randint(1,100)\n",
    "\n",
    "a = random.randint(1,50)\n",
    "guess = int ( input (\"guess number \"))\n",
    "c=1\n",
    "while guess!=a:\n",
    "    print(\"firse kar noob  \" )\n",
    "    if a<guess:\n",
    "        print ( 'guess lower ')\n",
    "    else :\n",
    "        print (\"guess higher \")\n",
    "    guess = int ( input (\"guess number \"))\n",
    "    c+=1\n",
    "print ( \"sahi hai ladle\" )"
   ]
  },
  {
   "cell_type": "code",
   "execution_count": 3,
   "id": "fe579752-4d0f-4afd-ad01-aeb096c2c6fe",
   "metadata": {
    "execution": {
     "iopub.execute_input": "2025-08-09T21:51:52.506602Z",
     "iopub.status.busy": "2025-08-09T21:51:52.506197Z",
     "iopub.status.idle": "2025-08-09T21:51:52.513049Z",
     "shell.execute_reply": "2025-08-09T21:51:52.512002Z",
     "shell.execute_reply.started": "2025-08-09T21:51:52.506576Z"
    }
   },
   "outputs": [
    {
     "data": {
      "text/plain": [
       "range(1, 11, 2)"
      ]
     },
     "execution_count": 3,
     "metadata": {},
     "output_type": "execute_result"
    }
   ],
   "source": [
    "list ( range (1,34))\n",
    "list (range (3))# default start is taken as 0\n",
    "range (1,11,2)"
   ]
  },
  {
   "cell_type": "code",
   "execution_count": 74,
   "id": "c220a7dc-159f-444c-9c06-d246d3d81e63",
   "metadata": {
    "execution": {
     "iopub.execute_input": "2025-08-10T14:41:44.272699Z",
     "iopub.status.busy": "2025-08-10T14:41:44.272380Z",
     "iopub.status.idle": "2025-08-10T14:41:44.276780Z",
     "shell.execute_reply": "2025-08-10T14:41:44.276180Z",
     "shell.execute_reply.started": "2025-08-10T14:41:44.272679Z"
    }
   },
   "outputs": [
    {
     "data": {
      "text/plain": [
       "'kolkata'"
      ]
     },
     "execution_count": 74,
     "metadata": {},
     "output_type": "execute_result"
    }
   ],
   "source": [
    "#sequence \n",
    "\"kolkata\""
   ]
  },
  {
   "cell_type": "code",
   "execution_count": null,
   "id": "659f97d9-9635-4ffb-a612-e35a7e86b9c7",
   "metadata": {},
   "outputs": [],
   "source": []
  },
  {
   "cell_type": "code",
   "execution_count": 7,
   "id": "e7781e76-5f47-4a12-af4d-1aa01668f329",
   "metadata": {
    "execution": {
     "iopub.execute_input": "2025-08-09T21:53:33.124514Z",
     "iopub.status.busy": "2025-08-09T21:53:33.124122Z",
     "iopub.status.idle": "2025-08-09T21:53:33.129363Z",
     "shell.execute_reply": "2025-08-09T21:53:33.128493Z",
     "shell.execute_reply.started": "2025-08-09T21:53:33.124489Z"
    }
   },
   "outputs": [
    {
     "name": "stdout",
     "output_type": "stream",
     "text": [
      "1\n",
      "2\n",
      "3\n",
      "4\n",
      "5\n",
      "6\n",
      "7\n",
      "8\n",
      "9\n",
      "10\n"
     ]
    }
   ],
   "source": [
    "for i in range(1,11):\n",
    "    print ( i)\n"
   ]
  },
  {
   "cell_type": "code",
   "execution_count": 5,
   "id": "65a4078c-3c4d-4707-b017-1a59933efa5f",
   "metadata": {
    "execution": {
     "iopub.execute_input": "2025-08-09T21:52:38.861737Z",
     "iopub.status.busy": "2025-08-09T21:52:38.861267Z",
     "iopub.status.idle": "2025-08-09T21:52:38.868068Z",
     "shell.execute_reply": "2025-08-09T21:52:38.867165Z",
     "shell.execute_reply.started": "2025-08-09T21:52:38.861708Z"
    }
   },
   "outputs": [
    {
     "data": {
      "text/plain": [
       "['kol', 'hie ', 'hola']"
      ]
     },
     "execution_count": 5,
     "metadata": {},
     "output_type": "execute_result"
    }
   ],
   "source": [
    "[\"kol\",\"hie \",\"hola\"]"
   ]
  },
  {
   "cell_type": "code",
   "execution_count": 4,
   "id": "08077a62-9877-401e-aa9b-7767514d7f7c",
   "metadata": {
    "execution": {
     "iopub.execute_input": "2025-08-10T07:45:11.036028Z",
     "iopub.status.busy": "2025-08-10T07:45:11.035726Z",
     "iopub.status.idle": "2025-08-10T07:45:12.586482Z",
     "shell.execute_reply": "2025-08-10T07:45:12.585913Z",
     "shell.execute_reply.started": "2025-08-10T07:45:11.036011Z"
    }
   },
   "outputs": [
    {
     "name": "stdin",
     "output_type": "stream",
     "text": [
      "row enter kar  4\n"
     ]
    },
    {
     "name": "stdout",
     "output_type": "stream",
     "text": [
      "h  \n",
      "h h  \n",
      "h h h  \n"
     ]
    }
   ],
   "source": [
    "rows = int ( input( 'row enter kar '))\n",
    "for i in range (1,rows ,1):\n",
    "    for j in range ( 0 , i):\n",
    "        print (\"h\",end =\" \")\n",
    "    print (\" \")"
   ]
  },
  {
   "cell_type": "code",
   "execution_count": 6,
   "id": "9fe08b03-5f6a-4b19-9f5a-45e3816f30e0",
   "metadata": {
    "execution": {
     "iopub.execute_input": "2025-08-10T07:46:40.089228Z",
     "iopub.status.busy": "2025-08-10T07:46:40.088918Z",
     "iopub.status.idle": "2025-08-10T07:46:40.093930Z",
     "shell.execute_reply": "2025-08-10T07:46:40.093062Z",
     "shell.execute_reply.started": "2025-08-10T07:46:40.089211Z"
    }
   },
   "outputs": [
    {
     "name": "stdout",
     "output_type": "stream",
     "text": [
      "1\n",
      "2\n",
      "3\n",
      "4\n"
     ]
    }
   ],
   "source": [
    "for i in range ( 1,10):\n",
    "    if i ==6:\n",
    "        break\n",
    "    print(i)\n",
    "    "
   ]
  },
  {
   "cell_type": "code",
   "execution_count": null,
   "id": "658d7b69-ef61-4775-aa41-d63e0e19a3a2",
   "metadata": {},
   "outputs": [],
   "source": [
    "for i in range ( 1,10):\n",
    "    if i ==6:\n",
    "        break \n",
    "    print(i)\n",
    "    print ( \" dekh 6 wala portion skipped hai N\")"
   ]
  },
  {
   "cell_type": "code",
   "execution_count": 19,
   "id": "538b36b7-2526-4cd4-bf4c-d6cc1dc0f43a",
   "metadata": {
    "execution": {
     "iopub.execute_input": "2025-08-10T07:57:57.664478Z",
     "iopub.status.busy": "2025-08-10T07:57:57.664077Z",
     "iopub.status.idle": "2025-08-10T07:57:57.671940Z",
     "shell.execute_reply": "2025-08-10T07:57:57.670986Z",
     "shell.execute_reply.started": "2025-08-10T07:57:57.664452Z"
    }
   },
   "outputs": [
    {
     "name": "stdout",
     "output_type": "stream",
     "text": [
      "a\n",
      "1.235\n"
     ]
    },
    {
     "data": {
      "text/plain": [
       "(2, 1)"
      ]
     },
     "execution_count": 19,
     "metadata": {},
     "output_type": "execute_result"
    }
   ],
   "source": [
    "print (min (\"kolkata\"))# takes ascii value as input to guve out minimun here a \n",
    "\n",
    "\n",
    "#round off \n",
    "c = 1.234567\n",
    "print (round( c, 3))\n",
    "divmod(5,2)\n",
    "\n"
   ]
  },
  {
   "cell_type": "code",
   "execution_count": 20,
   "id": "8d95d296-250f-4639-bd5c-9c391d4701e3",
   "metadata": {
    "execution": {
     "iopub.execute_input": "2025-08-10T07:59:09.897088Z",
     "iopub.status.busy": "2025-08-10T07:59:09.896643Z",
     "iopub.status.idle": "2025-08-10T07:59:09.902622Z",
     "shell.execute_reply": "2025-08-10T07:59:09.901550Z",
     "shell.execute_reply.started": "2025-08-10T07:59:09.897057Z"
    }
   },
   "outputs": [
    {
     "data": {
      "text/plain": [
       "140708844319720"
      ]
     },
     "execution_count": 20,
     "metadata": {},
     "output_type": "execute_result"
    }
   ],
   "source": [
    "# id function \n",
    "#very useful will study later \n",
    "a=3\n",
    "id ( a)\n",
    "# gives the adress of the variable "
   ]
  },
  {
   "cell_type": "code",
   "execution_count": 21,
   "id": "369b7b4d-2088-449c-943e-bdc1c3ec9218",
   "metadata": {
    "execution": {
     "iopub.execute_input": "2025-08-10T07:59:47.544621Z",
     "iopub.status.busy": "2025-08-10T07:59:47.544060Z",
     "iopub.status.idle": "2025-08-10T07:59:47.550242Z",
     "shell.execute_reply": "2025-08-10T07:59:47.549241Z",
     "shell.execute_reply.started": "2025-08-10T07:59:47.544589Z"
    }
   },
   "outputs": [
    {
     "data": {
      "text/plain": [
       "97"
      ]
     },
     "execution_count": 21,
     "metadata": {},
     "output_type": "execute_result"
    }
   ],
   "source": [
    " # for ascii value \n",
    "ord (\"a\")"
   ]
  },
  {
   "cell_type": "code",
   "execution_count": null,
   "id": "f1430e7c-6bda-49a3-93fb-08e8e72724b3",
   "metadata": {},
   "outputs": [],
   "source": [
    "len ( \" kolakata \")"
   ]
  },
  {
   "cell_type": "code",
   "execution_count": 22,
   "id": "25136cfe-2b78-4004-8105-05fd1fa2e9fa",
   "metadata": {
    "execution": {
     "iopub.execute_input": "2025-08-10T08:00:36.497637Z",
     "iopub.status.busy": "2025-08-10T08:00:36.497118Z",
     "iopub.status.idle": "2025-08-10T08:00:36.503856Z",
     "shell.execute_reply": "2025-08-10T08:00:36.502859Z",
     "shell.execute_reply.started": "2025-08-10T08:00:36.497609Z"
    }
   },
   "outputs": [
    {
     "data": {
      "text/plain": [
       "45"
      ]
     },
     "execution_count": 22,
     "metadata": {},
     "output_type": "execute_result"
    }
   ],
   "source": [
    "sum({1,2,3,4,5,6,7,8,9,})"
   ]
  },
  {
   "cell_type": "code",
   "execution_count": null,
   "id": "1171277a-a6a2-4956-af7c-69b466b84283",
   "metadata": {},
   "outputs": [],
   "source": [
    "#modules \n",
    "import math\n",
    "import random \n",
    "import time \n",
    "import os "
   ]
  },
  {
   "cell_type": "code",
   "execution_count": 24,
   "id": "d23682f4-8cb9-4cc8-bbda-9221db2bab32",
   "metadata": {
    "execution": {
     "iopub.execute_input": "2025-08-10T10:24:08.981029Z",
     "iopub.status.busy": "2025-08-10T10:24:08.980392Z",
     "iopub.status.idle": "2025-08-10T10:24:08.987708Z",
     "shell.execute_reply": "2025-08-10T10:24:08.986529Z",
     "shell.execute_reply.started": "2025-08-10T10:24:08.980998Z"
    }
   },
   "outputs": [
    {
     "name": "stdout",
     "output_type": "stream",
     "text": [
      "lkjhgfdsa\n"
     ]
    }
   ],
   "source": [
    "c= 'asdfghjkl'\n",
    "print ( c[::-1])\n",
    "\n",
    "#strings cant be mutated \n",
    "print ('1'*3)\n",
    "\n"
   ]
  },
  {
   "cell_type": "code",
   "execution_count": 25,
   "id": "ed4b15c7-2fde-439f-a22f-f9cdfa19bbc6",
   "metadata": {
    "execution": {
     "iopub.execute_input": "2025-08-10T11:25:53.032252Z",
     "iopub.status.busy": "2025-08-10T11:25:53.031896Z",
     "iopub.status.idle": "2025-08-10T11:25:53.036672Z",
     "shell.execute_reply": "2025-08-10T11:25:53.036135Z",
     "shell.execute_reply.started": "2025-08-10T11:25:53.032226Z"
    }
   },
   "outputs": [
    {
     "data": {
      "text/plain": [
       "False"
      ]
     },
     "execution_count": 25,
     "metadata": {},
     "output_type": "execute_result"
    }
   ],
   "source": [
    "'mumbai '> 'pune '\n",
    "#output false \n",
    "#dictionary order \n",
    "# small comes after capital\n",
    "#empty string is treated as false while normal is true "
   ]
  },
  {
   "cell_type": "code",
   "execution_count": 26,
   "id": "9815a15b-a7d3-4781-820e-9b0a82bac587",
   "metadata": {
    "execution": {
     "iopub.execute_input": "2025-08-10T11:35:52.404186Z",
     "iopub.status.busy": "2025-08-10T11:35:52.403179Z",
     "iopub.status.idle": "2025-08-10T11:35:52.412933Z",
     "shell.execute_reply": "2025-08-10T11:35:52.411903Z",
     "shell.execute_reply.started": "2025-08-10T11:35:52.404138Z"
    }
   },
   "outputs": [
    {
     "data": {
      "text/plain": [
       "[' ', 'a', 'd', 'f', 'g', 'h', 'j', 'k', 's']"
      ]
     },
     "execution_count": 26,
     "metadata": {},
     "output_type": "execute_result"
    }
   ],
   "source": [
    "c =\" asdfghjk\"\n",
    "sorted (c)\n",
    "# gives ascii ascending order list \n"
   ]
  },
  {
   "cell_type": "code",
   "execution_count": 35,
   "id": "348fd831-906a-4abd-a833-9a5238e56c3e",
   "metadata": {
    "execution": {
     "iopub.execute_input": "2025-08-10T12:11:37.702758Z",
     "iopub.status.busy": "2025-08-10T12:11:37.702446Z",
     "iopub.status.idle": "2025-08-10T12:11:37.707718Z",
     "shell.execute_reply": "2025-08-10T12:11:37.707193Z",
     "shell.execute_reply.started": "2025-08-10T12:11:37.702739Z"
    }
   },
   "outputs": [
    {
     "data": {
      "text/plain": [
       "['uiugicwsgudi', 'geuedewhdwhuk', 'qgkhudwk']"
      ]
     },
     "execution_count": 35,
     "metadata": {},
     "output_type": "execute_result"
    }
   ],
   "source": [
    "c.upper ()\n",
    "c.lower()\n",
    "c.swapcase()#swap cases not that useful\n",
    "c=('uiugicwsgudi geuedewhdwhuk qgkhudwk')\n",
    "c.title()# makes the first letter of each word caps\n",
    "c.count ('h')# no of times the letter appeared \n",
    "c.find (\"h\")#first index finder \n",
    "# we can use index function as well \n",
    "c.index ('m')# this will throw error \n",
    "# while the find function wont throw the error\n",
    "#but give -1 as output \n",
    "#prefer find \n",
    "c.split()\n",
    "c.split(h)\n",
    "' '.join ([])"
   ]
  },
  {
   "cell_type": "markdown",
   "id": "4dadf3fd-dbc8-42e3-877a-562f0bd04ae4",
   "metadata": {},
   "source": [
    "# format"
   ]
  },
  {
   "cell_type": "code",
   "execution_count": 33,
   "id": "91343e52-b0f9-4d32-a231-ac2ebf223acf",
   "metadata": {
    "execution": {
     "iopub.execute_input": "2025-08-10T11:57:48.041564Z",
     "iopub.status.busy": "2025-08-10T11:57:48.041232Z",
     "iopub.status.idle": "2025-08-10T11:57:48.046357Z",
     "shell.execute_reply": "2025-08-10T11:57:48.045822Z",
     "shell.execute_reply.started": "2025-08-10T11:57:48.041544Z"
    }
   },
   "outputs": [
    {
     "data": {
      "text/plain": [
       "' hello my name is nigga  and i am a 2345678'"
      ]
     },
     "execution_count": 33,
     "metadata": {},
     "output_type": "execute_result"
    }
   ],
   "source": [
    "' hello my name is {} and i am a {}'.format ('nigga ',2345678)\n",
    "' hello my name is {1} and i am a {0}'.format ('nigga ',2345678)\n",
    "' hello my name is {name} and i am a {age}'.format (name='nigga ',age=2345678)\n",
    "' hello my name is {a} and i am a {n}'.format (n='nigga ',a=2345678)"
   ]
  },
  {
   "cell_type": "code",
   "execution_count": 36,
   "id": "0a759b7e-061f-4f43-91fe-62532eecba77",
   "metadata": {
    "execution": {
     "iopub.execute_input": "2025-08-10T12:26:38.902794Z",
     "iopub.status.busy": "2025-08-10T12:26:38.902433Z",
     "iopub.status.idle": "2025-08-10T12:26:38.907340Z",
     "shell.execute_reply": "2025-08-10T12:26:38.906577Z",
     "shell.execute_reply.started": "2025-08-10T12:26:38.902773Z"
    }
   },
   "outputs": [
    {
     "data": {
      "text/plain": [
       "'sasu'"
      ]
     },
     "execution_count": 36,
     "metadata": {},
     "output_type": "execute_result"
    }
   ],
   "source": [
    "' hi sdfghj'.replace ( 'hi ','hello')\n",
    "name ='    sasu      '\n",
    "name.strip()"
   ]
  },
  {
   "cell_type": "code",
   "execution_count": 59,
   "id": "4040a8b4-5041-46d5-83b6-f16fb912fce8",
   "metadata": {
    "execution": {
     "iopub.execute_input": "2025-08-10T12:55:57.867866Z",
     "iopub.status.busy": "2025-08-10T12:55:57.867598Z",
     "iopub.status.idle": "2025-08-10T12:55:57.872670Z",
     "shell.execute_reply": "2025-08-10T12:55:57.872196Z",
     "shell.execute_reply.started": "2025-08-10T12:55:57.867850Z"
    }
   },
   "outputs": [
    {
     "name": "stdout",
     "output_type": "stream",
     "text": [
      "6\n",
      "[1, 2, 3, 4, 5, 123]\n",
      "[1, 2, 3, 4, 5, 123, 'hello']\n",
      "[1, 2, 3, 4, 5, 123, 'hello', [1, 2]]\n",
      "[1, 2, 3, 4, 5, 123, 'hello', [1, 2], 1234, 2345, 76543]\n",
      "[1, 2, 3, 4, 5, 123, 'hello', [1, 2], 1234, 2345, 76543, 'g', 'o', 'a']\n",
      "[1, 2, 3, 'world', 4, 5, 123, 'hello', [1, 2], 1234, 2345, 76543, 'g', 'o', 'a']\n"
     ]
    }
   ],
   "source": [
    "#access 3d list element \n",
    "l3=[[[1,2],[3,4]],[[5,6],[7,8]]]\n",
    "# now to access lets say 6 \n",
    "print (l3[1][0][1])\n",
    "\n",
    "#list can be mutated\n",
    "l=[1,2,3,4,5]\n",
    "l.append(123)\n",
    "print (l)\n",
    "l.append('hello')\n",
    "print (l)\n",
    "l.append([1,2])\n",
    "print (l)\n",
    "l.extend([1234,2345,76543])\n",
    "print (l)\n",
    "l.extend('goa')\n",
    "print (l)\n",
    "l.insert(3,'world')#add world at index 3\n",
    "print (l)\n"
   ]
  },
  {
   "cell_type": "code",
   "execution_count": 60,
   "id": "0057f12f-f795-4250-bcd4-668445b877fb",
   "metadata": {
    "execution": {
     "iopub.execute_input": "2025-08-10T12:56:03.530131Z",
     "iopub.status.busy": "2025-08-10T12:56:03.529756Z",
     "iopub.status.idle": "2025-08-10T12:56:03.533027Z",
     "shell.execute_reply": "2025-08-10T12:56:03.532533Z",
     "shell.execute_reply.started": "2025-08-10T12:56:03.530105Z"
    }
   },
   "outputs": [],
   "source": [
    "del l# deleted the whole list \n",
    "del l[3]# delete anything at the index 3 \n",
    "l.remove ('hello')# dont know index but \n",
    "#want to delete any item \n",
    "l.pop()# last item delete \n",
    "l.clear()#doesnt deletes but clears all elements \n"
   ]
  },
  {
   "cell_type": "code",
   "execution_count": 61,
   "id": "6ed47f6a-b19b-49c2-9001-f1f4219a2a67",
   "metadata": {
    "execution": {
     "iopub.execute_input": "2025-08-10T12:59:14.707220Z",
     "iopub.status.busy": "2025-08-10T12:59:14.706794Z",
     "iopub.status.idle": "2025-08-10T12:59:14.711744Z",
     "shell.execute_reply": "2025-08-10T12:59:14.711117Z",
     "shell.execute_reply.started": "2025-08-10T12:59:14.707179Z"
    }
   },
   "outputs": [
    {
     "data": {
      "text/plain": [
       "[1, 2, 3, 4, 5, 5, 6, 7, 8]"
      ]
     },
     "execution_count": 61,
     "metadata": {},
     "output_type": "execute_result"
    }
   ],
   "source": [
    "l=[1,2,3,4,5]\n",
    "l1=[9,8,7,6]\n",
    "l+l1\n",
    "l*3\n",
    "sorted(l1)"
   ]
  },
  {
   "cell_type": "code",
   "execution_count": 63,
   "id": "e263bb5f-dc68-4a02-85a2-fcfa341f18b4",
   "metadata": {
    "execution": {
     "iopub.execute_input": "2025-08-10T14:06:17.637389Z",
     "iopub.status.busy": "2025-08-10T14:06:17.637089Z",
     "iopub.status.idle": "2025-08-10T14:06:17.641896Z",
     "shell.execute_reply": "2025-08-10T14:06:17.641384Z",
     "shell.execute_reply.started": "2025-08-10T14:06:17.637369Z"
    }
   },
   "outputs": [
    {
     "data": {
      "text/plain": [
       "[9, 9, 7, 5, 4, 4, 2, 2, 1]"
      ]
     },
     "execution_count": 63,
     "metadata": {},
     "output_type": "execute_result"
    }
   ],
   "source": [
    "#tuple doesnt suppot editing\n",
    "# we can delete a whole tuple not a part of it \n",
    "#sort tuple in reverse \n",
    "t=9,4,5,2,4,7,2,9,1\n",
    "sorted(t,reverse=True)\n",
    "#tuples are read only no write function\n"
   ]
  },
  {
   "cell_type": "code",
   "execution_count": 73,
   "id": "9b254893-c1ac-42f3-9578-08430770b3b8",
   "metadata": {
    "execution": {
     "iopub.execute_input": "2025-08-10T14:22:21.007769Z",
     "iopub.status.busy": "2025-08-10T14:22:21.007476Z",
     "iopub.status.idle": "2025-08-10T14:22:21.022276Z",
     "shell.execute_reply": "2025-08-10T14:22:21.021534Z",
     "shell.execute_reply.started": "2025-08-10T14:22:21.007752Z"
    }
   },
   "outputs": [
    {
     "name": "stdout",
     "output_type": "stream",
     "text": [
      "{'hello', (1, 2, 3)}\n"
     ]
    },
    {
     "ename": "TypeError",
     "evalue": "unhashable type: 'list'",
     "output_type": "error",
     "traceback": [
      "\u001b[1;31m---------------------------------------------------------------------------\u001b[0m",
      "\u001b[1;31mTypeError\u001b[0m                                 Traceback (most recent call last)",
      "Cell \u001b[1;32mIn[73], line 9\u001b[0m\n\u001b[0;32m      7\u001b[0m s2\u001b[38;5;241m=\u001b[39m{(\u001b[38;5;241m1\u001b[39m,\u001b[38;5;241m2\u001b[39m,\u001b[38;5;241m3\u001b[39m),\u001b[38;5;124m'\u001b[39m\u001b[38;5;124mhello\u001b[39m\u001b[38;5;124m'\u001b[39m}\n\u001b[0;32m      8\u001b[0m \u001b[38;5;28mprint\u001b[39m (s2)\u001b[38;5;66;03m#tuple is not mutable so doesnt throw error \u001b[39;00m\n\u001b[1;32m----> 9\u001b[0m s1\u001b[38;5;241m=\u001b[39m{[\u001b[38;5;241m1\u001b[39m,\u001b[38;5;241m2\u001b[39m,\u001b[38;5;241m3\u001b[39m],\u001b[38;5;124m'\u001b[39m\u001b[38;5;124mhello\u001b[39m\u001b[38;5;124m'\u001b[39m}\n\u001b[0;32m     10\u001b[0m \u001b[38;5;28mprint\u001b[39m (s1)\u001b[38;5;66;03m#list is mutable so it throws error \u001b[39;00m\n\u001b[0;32m     11\u001b[0m \u001b[38;5;66;03m#since there is no indexing it follows hasing \u001b[39;00m\n\u001b[0;32m     12\u001b[0m \u001b[38;5;66;03m# cant acces or edit set items \u001b[39;00m\n\u001b[0;32m     13\u001b[0m \u001b[38;5;66;03m#but you can change it to list and do operations \u001b[39;00m\n\u001b[0;32m     14\u001b[0m \u001b[38;5;66;03m#we can add and remove items \u001b[39;00m\n",
      "\u001b[1;31mTypeError\u001b[0m: unhashable type: 'list'"
     ]
    }
   ],
   "source": [
    "#sets dont allow duplicates \n",
    "#sets dont have index \n",
    "#sets have no mutable data types \n",
    "#sets itself is mutable\n",
    "#so 2d and 3d sets are not possible \n",
    "\n",
    "s2={(1,2,3),'hello'}\n",
    "print (s2)#tuple is not mutable so doesnt throw error \n",
    "s1={[1,2,3],'hello'}\n",
    "print (s1)#list is mutable so it throws error \n",
    "#since there is no indexing it follows hasing \n",
    "# cant acces or edit set items \n",
    "#but you can change it to list and do operations \n",
    "s3=list (s2)\n",
    "#we can add and remove items \n",
    "s2.add(4)\n",
    "print (s2)\n",
    "s2.remove('hello')\n",
    "print (s2)\n",
    "#set reverse = tuple revrse\n",
    "# read the set documentation for other functions "
   ]
  },
  {
   "cell_type": "code",
   "execution_count": 11,
   "id": "2bcd8ebc-4dde-4118-b12a-f9082db573fc",
   "metadata": {
    "execution": {
     "iopub.execute_input": "2025-08-11T20:44:58.981043Z",
     "iopub.status.busy": "2025-08-11T20:44:58.980593Z",
     "iopub.status.idle": "2025-08-11T20:44:58.998654Z",
     "shell.execute_reply": "2025-08-11T20:44:58.997854Z",
     "shell.execute_reply.started": "2025-08-11T20:44:58.981018Z"
    }
   },
   "outputs": [
    {
     "name": "stdout",
     "output_type": "stream",
     "text": [
      "{'name': 'nitish', 'age': 20}\n",
      "{'name': 'nigga', 'age': 20}\n"
     ]
    },
    {
     "ename": "NameError",
     "evalue": "name 'd5' is not defined",
     "output_type": "error",
     "traceback": [
      "\u001b[1;31m---------------------------------------------------------------------------\u001b[0m",
      "\u001b[1;31mNameError\u001b[0m                                 Traceback (most recent call last)",
      "Cell \u001b[1;32mIn[11], line 13\u001b[0m\n\u001b[0;32m     11\u001b[0m d[\u001b[38;5;124m'\u001b[39m\u001b[38;5;124mname\u001b[39m\u001b[38;5;124m'\u001b[39m]\u001b[38;5;241m=\u001b[39m\u001b[38;5;124m'\u001b[39m\u001b[38;5;124mnigga\u001b[39m\u001b[38;5;124m'\u001b[39m\n\u001b[0;32m     12\u001b[0m \u001b[38;5;28mprint\u001b[39m (d)\n\u001b[1;32m---> 13\u001b[0m d5\u001b[38;5;241m=\u001b[39m{d5}\n\u001b[0;32m     14\u001b[0m \u001b[38;5;28;01mdel\u001b[39;00m d5\n\u001b[0;32m     15\u001b[0m d5\u001b[38;5;241m.\u001b[39mclear()\n",
      "\u001b[1;31mNameError\u001b[0m: name 'd5' is not defined"
     ]
    }
   ],
   "source": [
    "# dictionary\n",
    "#dictionary has no index \n",
    "# it is mutable \n",
    "# keys are inmutable \n",
    "# values can be mutable \n",
    "# keys must be unique \n",
    "# 2d 3d exists \n",
    "d= {'name':'nitish','age': 20}\n",
    "print (d)\n",
    "#edit \n",
    "d['name']='nigga'\n",
    "print (d)\n",
    "d5=[]\n",
    "del d5\n",
    "d5.clear()\n",
    "#concat doesnt work \n",
    "#multiply doesnt work \n",
    "#loop works\n",
    "\n",
    "#dictionary always checks in keys not value \n",
    "d.keys()\n",
    "d.values()"
   ]
  },
  {
   "cell_type": "markdown",
   "id": "667e6eee-58fc-4f0d-8203-7b24f9d09024",
   "metadata": {},
   "source": [
    "\n",
    "\n",
    "# mutable: list set dictionary \n",
    "# immutable: string tuples "
   ]
  },
  {
   "cell_type": "code",
   "execution_count": null,
   "id": "fb4a35b6-572b-4522-a59a-295b007e699e",
   "metadata": {},
   "outputs": [],
   "source": []
  }
 ],
 "metadata": {
  "kernelspec": {
   "display_name": "Python 3 (ipykernel)",
   "language": "python",
   "name": "python3"
  },
  "language_info": {
   "codemirror_mode": {
    "name": "ipython",
    "version": 3
   },
   "file_extension": ".py",
   "mimetype": "text/x-python",
   "name": "python",
   "nbconvert_exporter": "python",
   "pygments_lexer": "ipython3",
   "version": "3.13.5"
  }
 },
 "nbformat": 4,
 "nbformat_minor": 5
}
